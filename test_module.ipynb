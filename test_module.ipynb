{
 "cells": [
  {
   "cell_type": "code",
   "execution_count": 1,
   "metadata": {},
   "outputs": [],
   "source": [
    "from licheats import Client\n",
    "client = Client()"
   ]
  },
  {
   "cell_type": "code",
   "execution_count": 2,
   "metadata": {},
   "outputs": [
    {
     "data": {
      "text/plain": [
       "<licheats.shared.models.Player at 0x7fc961549290>"
      ]
     },
     "execution_count": 2,
     "metadata": {},
     "output_type": "execute_result"
    }
   ],
   "source": [
    "player = client.get_player('Fieber69')\n",
    "player"
   ]
  },
  {
   "cell_type": "code",
   "execution_count": 3,
   "metadata": {},
   "outputs": [
    {
     "data": {
      "text/plain": [
       "[<licheats.shared.models.Game at 0x7fc9601823d0>,\n",
       " <licheats.shared.models.Game at 0x7fc97aba3ad0>,\n",
       " <licheats.shared.models.Game at 0x7fc960181ed0>,\n",
       " <licheats.shared.models.Game at 0x7fc95532ff50>,\n",
       " <licheats.shared.models.Game at 0x7fc95532ec50>,\n",
       " <licheats.shared.models.Game at 0x7fc95532f450>,\n",
       " <licheats.shared.models.Game at 0x7fc95532e590>,\n",
       " <licheats.shared.models.Game at 0x7fc95532e650>,\n",
       " <licheats.shared.models.Game at 0x7fc95532ef10>,\n",
       " <licheats.shared.models.Game at 0x7fc95532edd0>,\n",
       " <licheats.shared.models.Game at 0x7fc97ab9af10>,\n",
       " <licheats.shared.models.Game at 0x7fc95534fb50>,\n",
       " <licheats.shared.models.Game at 0x7fc95534c050>,\n",
       " <licheats.shared.models.Game at 0x7fc95534c090>,\n",
       " <licheats.shared.models.Game at 0x7fc955343390>,\n",
       " <licheats.shared.models.Game at 0x7fc955343590>,\n",
       " <licheats.shared.models.Game at 0x7fc955343810>,\n",
       " <licheats.shared.models.Game at 0x7fc955343a10>,\n",
       " <licheats.shared.models.Game at 0x7fc955343a50>,\n",
       " <licheats.shared.models.Game at 0x7fc955343850>,\n",
       " <licheats.shared.models.Game at 0x7fc9553423d0>,\n",
       " <licheats.shared.models.Game at 0x7fc9553422d0>,\n",
       " <licheats.shared.models.Game at 0x7fc955342210>,\n",
       " <licheats.shared.models.Game at 0x7fc955342150>,\n",
       " <licheats.shared.models.Game at 0x7fc955342050>,\n",
       " <licheats.shared.models.Game at 0x7fc955341f90>,\n",
       " <licheats.shared.models.Game at 0x7fc955341e50>,\n",
       " <licheats.shared.models.Game at 0x7fc955341d90>,\n",
       " <licheats.shared.models.Game at 0x7fc955341c50>,\n",
       " <licheats.shared.models.Game at 0x7fc9553428d0>,\n",
       " <licheats.shared.models.Game at 0x7fc955343710>,\n",
       " <licheats.shared.models.Game at 0x7fc955343b90>,\n",
       " <licheats.shared.models.Game at 0x7fc955343c90>,\n",
       " <licheats.shared.models.Game at 0x7fc955343950>,\n",
       " <licheats.shared.models.Game at 0x7fc955343e50>,\n",
       " <licheats.shared.models.Game at 0x7fc955343ad0>,\n",
       " <licheats.shared.models.Game at 0x7fc955322fd0>,\n",
       " <licheats.shared.models.Game at 0x7fc955322dd0>,\n",
       " <licheats.shared.models.Game at 0x7fc955322490>,\n",
       " <licheats.shared.models.Game at 0x7fc9553239d0>,\n",
       " <licheats.shared.models.Game at 0x7fc9553ca5d0>,\n",
       " <licheats.shared.models.Game at 0x7fc9553ca6d0>,\n",
       " <licheats.shared.models.Game at 0x7fc9553ca7d0>,\n",
       " <licheats.shared.models.Game at 0x7fc9553ca8d0>,\n",
       " <licheats.shared.models.Game at 0x7fc9553ca9d0>,\n",
       " <licheats.shared.models.Game at 0x7fc9553caad0>,\n",
       " <licheats.shared.models.Game at 0x7fc9553cabd0>,\n",
       " <licheats.shared.models.Game at 0x7fc9553cacd0>,\n",
       " <licheats.shared.models.Game at 0x7fc9553cadd0>,\n",
       " <licheats.shared.models.Game at 0x7fc9553caed0>,\n",
       " <licheats.shared.models.Game at 0x7fc9553cafd0>,\n",
       " <licheats.shared.models.Game at 0x7fc9553cb0d0>,\n",
       " <licheats.shared.models.Game at 0x7fc9553cb1d0>,\n",
       " <licheats.shared.models.Game at 0x7fc9553cb2d0>,\n",
       " <licheats.shared.models.Game at 0x7fc9553cb3d0>,\n",
       " <licheats.shared.models.Game at 0x7fc9553cb4d0>,\n",
       " <licheats.shared.models.Game at 0x7fc9553cb5d0>,\n",
       " <licheats.shared.models.Game at 0x7fc9553cb6d0>,\n",
       " <licheats.shared.models.Game at 0x7fc9553cb7d0>,\n",
       " <licheats.shared.models.Game at 0x7fc9553cb8d0>,\n",
       " <licheats.shared.models.Game at 0x7fc9553cb9d0>,\n",
       " <licheats.shared.models.Game at 0x7fc9553cbad0>,\n",
       " <licheats.shared.models.Game at 0x7fc9553cbbd0>,\n",
       " <licheats.shared.models.Game at 0x7fc9553cbcd0>,\n",
       " <licheats.shared.models.Game at 0x7fc9553cbdd0>,\n",
       " <licheats.shared.models.Game at 0x7fc9553cbed0>,\n",
       " <licheats.shared.models.Game at 0x7fc9553cbfd0>,\n",
       " <licheats.shared.models.Game at 0x7fc9553d4110>,\n",
       " <licheats.shared.models.Game at 0x7fc9553d4210>,\n",
       " <licheats.shared.models.Game at 0x7fc9553d4310>,\n",
       " <licheats.shared.models.Game at 0x7fc9553d4410>,\n",
       " <licheats.shared.models.Game at 0x7fc9553d4510>,\n",
       " <licheats.shared.models.Game at 0x7fc9553d4610>,\n",
       " <licheats.shared.models.Game at 0x7fc9553d4710>,\n",
       " <licheats.shared.models.Game at 0x7fc9553d4810>,\n",
       " <licheats.shared.models.Game at 0x7fc9553d4910>,\n",
       " <licheats.shared.models.Game at 0x7fc9553d4a10>,\n",
       " <licheats.shared.models.Game at 0x7fc9553d4b10>,\n",
       " <licheats.shared.models.Game at 0x7fc9553d4cd0>]"
      ]
     },
     "execution_count": 3,
     "metadata": {},
     "output_type": "execute_result"
    }
   ],
   "source": [
    "games = client.get_games('Fieber69')\n",
    "games"
   ]
  },
  {
   "cell_type": "code",
   "execution_count": 4,
   "metadata": {},
   "outputs": [],
   "source": [
    "client.save_player(player)\n",
    "client.save_games(games)"
   ]
  },
  {
   "cell_type": "code",
   "execution_count": 5,
   "metadata": {},
   "outputs": [
    {
     "data": {
      "text/plain": [
       "79"
      ]
     },
     "execution_count": 5,
     "metadata": {},
     "output_type": "execute_result"
    }
   ],
   "source": [
    "len(games)"
   ]
  },
  {
   "cell_type": "code",
   "execution_count": null,
   "metadata": {},
   "outputs": [],
   "source": []
  },
  {
   "cell_type": "code",
   "execution_count": 6,
   "metadata": {},
   "outputs": [
    {
     "ename": "DetachedInstanceError",
     "evalue": "Instance <Player at 0x7fc961549290> is not bound to a Session; attribute refresh operation cannot proceed (Background on this error at: https://sqlalche.me/e/20/bhk3)",
     "output_type": "error",
     "traceback": [
      "\u001b[0;31m---------------------------------------------------------------------------\u001b[0m",
      "\u001b[0;31mDetachedInstanceError\u001b[0m                     Traceback (most recent call last)",
      "Cell \u001b[0;32mIn[6], line 1\u001b[0m\n\u001b[0;32m----> 1\u001b[0m \u001b[43mclient\u001b[49m\u001b[38;5;241;43m.\u001b[39;49m\u001b[43mresume_stats\u001b[49m\u001b[43m(\u001b[49m\u001b[43mplayer\u001b[49m\u001b[43m,\u001b[49m\u001b[43m \u001b[49m\u001b[43mgames\u001b[49m\u001b[43m)\u001b[49m\n",
      "File \u001b[0;32m~/Documentos/CODIGO/Lichess-Openings/licheats/core/client.py:13\u001b[0m, in \u001b[0;36mClient.resume_stats\u001b[0;34m(self, player, games)\u001b[0m\n\u001b[1;32m     12\u001b[0m \u001b[38;5;28;01mdef\u001b[39;00m \u001b[38;5;21mresume_stats\u001b[39m(\u001b[38;5;28mself\u001b[39m, player:Player, games:\u001b[38;5;28mlist\u001b[39m[Game]) \u001b[38;5;241m-\u001b[39m\u001b[38;5;241m>\u001b[39m pd\u001b[38;5;241m.\u001b[39mDataFrame:\n\u001b[0;32m---> 13\u001b[0m     \u001b[38;5;28;43mself\u001b[39;49m\u001b[38;5;241;43m.\u001b[39;49m\u001b[43mstat_service\u001b[49m\u001b[38;5;241;43m.\u001b[39;49m\u001b[43mresume_stats\u001b[49m\u001b[43m(\u001b[49m\u001b[43mplayer\u001b[49m\u001b[43m,\u001b[49m\u001b[43m \u001b[49m\u001b[43mgames\u001b[49m\u001b[43m)\u001b[49m\n",
      "File \u001b[0;32m~/Documentos/CODIGO/Lichess-Openings/licheats/services/stats_service.py:6\u001b[0m, in \u001b[0;36mStatService.resume_stats\u001b[0;34m(player, games)\u001b[0m\n\u001b[1;32m      4\u001b[0m \u001b[38;5;129m@staticmethod\u001b[39m\n\u001b[1;32m      5\u001b[0m \u001b[38;5;28;01mdef\u001b[39;00m \u001b[38;5;21mresume_stats\u001b[39m(player, games):\n\u001b[0;32m----> 6\u001b[0m     analysis \u001b[38;5;241m=\u001b[39m GamesAnalyzer(\u001b[43mplayer\u001b[49m\u001b[38;5;241;43m.\u001b[39;49m\u001b[43musername\u001b[49m, games)\n\u001b[1;32m      8\u001b[0m     enroque_king, enroque_queen \u001b[38;5;241m=\u001b[39m analysis\u001b[38;5;241m.\u001b[39menroque_preference()\n\u001b[1;32m      9\u001b[0m     with_queen, without_queen \u001b[38;5;241m=\u001b[39m analysis\u001b[38;5;241m.\u001b[39mperformance_with_queens()\n",
      "File \u001b[0;32m~/.local/lib/python3.11/site-packages/sqlalchemy/orm/attributes.py:566\u001b[0m, in \u001b[0;36mInstrumentedAttribute.__get__\u001b[0;34m(self, instance, owner)\u001b[0m\n\u001b[1;32m    564\u001b[0m \u001b[38;5;28;01mexcept\u001b[39;00m \u001b[38;5;167;01mAttributeError\u001b[39;00m \u001b[38;5;28;01mas\u001b[39;00m err:\n\u001b[1;32m    565\u001b[0m     \u001b[38;5;28;01mraise\u001b[39;00m orm_exc\u001b[38;5;241m.\u001b[39mUnmappedInstanceError(instance) \u001b[38;5;28;01mfrom\u001b[39;00m \u001b[38;5;21;01merr\u001b[39;00m\n\u001b[0;32m--> 566\u001b[0m \u001b[38;5;28;01mreturn\u001b[39;00m \u001b[38;5;28;43mself\u001b[39;49m\u001b[38;5;241;43m.\u001b[39;49m\u001b[43mimpl\u001b[49m\u001b[38;5;241;43m.\u001b[39;49m\u001b[43mget\u001b[49m\u001b[43m(\u001b[49m\u001b[43mstate\u001b[49m\u001b[43m,\u001b[49m\u001b[43m \u001b[49m\u001b[43mdict_\u001b[49m\u001b[43m)\u001b[49m\n",
      "File \u001b[0;32m~/.local/lib/python3.11/site-packages/sqlalchemy/orm/attributes.py:1086\u001b[0m, in \u001b[0;36mAttributeImpl.get\u001b[0;34m(self, state, dict_, passive)\u001b[0m\n\u001b[1;32m   1083\u001b[0m \u001b[38;5;28;01mif\u001b[39;00m \u001b[38;5;129;01mnot\u001b[39;00m passive \u001b[38;5;241m&\u001b[39m CALLABLES_OK:\n\u001b[1;32m   1084\u001b[0m     \u001b[38;5;28;01mreturn\u001b[39;00m PASSIVE_NO_RESULT\n\u001b[0;32m-> 1086\u001b[0m value \u001b[38;5;241m=\u001b[39m \u001b[38;5;28;43mself\u001b[39;49m\u001b[38;5;241;43m.\u001b[39;49m\u001b[43m_fire_loader_callables\u001b[49m\u001b[43m(\u001b[49m\u001b[43mstate\u001b[49m\u001b[43m,\u001b[49m\u001b[43m \u001b[49m\u001b[43mkey\u001b[49m\u001b[43m,\u001b[49m\u001b[43m \u001b[49m\u001b[43mpassive\u001b[49m\u001b[43m)\u001b[49m\n\u001b[1;32m   1088\u001b[0m \u001b[38;5;28;01mif\u001b[39;00m value \u001b[38;5;129;01mis\u001b[39;00m PASSIVE_NO_RESULT \u001b[38;5;129;01mor\u001b[39;00m value \u001b[38;5;129;01mis\u001b[39;00m NO_VALUE:\n\u001b[1;32m   1089\u001b[0m     \u001b[38;5;28;01mreturn\u001b[39;00m value\n",
      "File \u001b[0;32m~/.local/lib/python3.11/site-packages/sqlalchemy/orm/attributes.py:1116\u001b[0m, in \u001b[0;36mAttributeImpl._fire_loader_callables\u001b[0;34m(self, state, key, passive)\u001b[0m\n\u001b[1;32m   1108\u001b[0m \u001b[38;5;28;01mdef\u001b[39;00m \u001b[38;5;21m_fire_loader_callables\u001b[39m(\n\u001b[1;32m   1109\u001b[0m     \u001b[38;5;28mself\u001b[39m, state: InstanceState[Any], key: \u001b[38;5;28mstr\u001b[39m, passive: PassiveFlag\n\u001b[1;32m   1110\u001b[0m ) \u001b[38;5;241m-\u001b[39m\u001b[38;5;241m>\u001b[39m Any:\n\u001b[1;32m   1111\u001b[0m     \u001b[38;5;28;01mif\u001b[39;00m (\n\u001b[1;32m   1112\u001b[0m         \u001b[38;5;28mself\u001b[39m\u001b[38;5;241m.\u001b[39maccepts_scalar_loader\n\u001b[1;32m   1113\u001b[0m         \u001b[38;5;129;01mand\u001b[39;00m \u001b[38;5;28mself\u001b[39m\u001b[38;5;241m.\u001b[39mload_on_unexpire\n\u001b[1;32m   1114\u001b[0m         \u001b[38;5;129;01mand\u001b[39;00m key \u001b[38;5;129;01min\u001b[39;00m state\u001b[38;5;241m.\u001b[39mexpired_attributes\n\u001b[1;32m   1115\u001b[0m     ):\n\u001b[0;32m-> 1116\u001b[0m         \u001b[38;5;28;01mreturn\u001b[39;00m \u001b[43mstate\u001b[49m\u001b[38;5;241;43m.\u001b[39;49m\u001b[43m_load_expired\u001b[49m\u001b[43m(\u001b[49m\u001b[43mstate\u001b[49m\u001b[43m,\u001b[49m\u001b[43m \u001b[49m\u001b[43mpassive\u001b[49m\u001b[43m)\u001b[49m\n\u001b[1;32m   1117\u001b[0m     \u001b[38;5;28;01melif\u001b[39;00m key \u001b[38;5;129;01min\u001b[39;00m state\u001b[38;5;241m.\u001b[39mcallables:\n\u001b[1;32m   1118\u001b[0m         callable_ \u001b[38;5;241m=\u001b[39m state\u001b[38;5;241m.\u001b[39mcallables[key]\n",
      "File \u001b[0;32m~/.local/lib/python3.11/site-packages/sqlalchemy/orm/state.py:796\u001b[0m, in \u001b[0;36mInstanceState._load_expired\u001b[0;34m(self, state, passive)\u001b[0m\n\u001b[1;32m    789\u001b[0m toload \u001b[38;5;241m=\u001b[39m \u001b[38;5;28mself\u001b[39m\u001b[38;5;241m.\u001b[39mexpired_attributes\u001b[38;5;241m.\u001b[39mintersection(\u001b[38;5;28mself\u001b[39m\u001b[38;5;241m.\u001b[39munmodified)\n\u001b[1;32m    790\u001b[0m toload \u001b[38;5;241m=\u001b[39m toload\u001b[38;5;241m.\u001b[39mdifference(\n\u001b[1;32m    791\u001b[0m     attr\n\u001b[1;32m    792\u001b[0m     \u001b[38;5;28;01mfor\u001b[39;00m attr \u001b[38;5;129;01min\u001b[39;00m toload\n\u001b[1;32m    793\u001b[0m     \u001b[38;5;28;01mif\u001b[39;00m \u001b[38;5;129;01mnot\u001b[39;00m \u001b[38;5;28mself\u001b[39m\u001b[38;5;241m.\u001b[39mmanager[attr]\u001b[38;5;241m.\u001b[39mimpl\u001b[38;5;241m.\u001b[39mload_on_unexpire\n\u001b[1;32m    794\u001b[0m )\n\u001b[0;32m--> 796\u001b[0m \u001b[38;5;28;43mself\u001b[39;49m\u001b[38;5;241;43m.\u001b[39;49m\u001b[43mmanager\u001b[49m\u001b[38;5;241;43m.\u001b[39;49m\u001b[43mexpired_attribute_loader\u001b[49m\u001b[43m(\u001b[49m\u001b[38;5;28;43mself\u001b[39;49m\u001b[43m,\u001b[49m\u001b[43m \u001b[49m\u001b[43mtoload\u001b[49m\u001b[43m,\u001b[49m\u001b[43m \u001b[49m\u001b[43mpassive\u001b[49m\u001b[43m)\u001b[49m\n\u001b[1;32m    798\u001b[0m \u001b[38;5;66;03m# if the loader failed, or this\u001b[39;00m\n\u001b[1;32m    799\u001b[0m \u001b[38;5;66;03m# instance state didn't have an identity,\u001b[39;00m\n\u001b[1;32m    800\u001b[0m \u001b[38;5;66;03m# the attributes still might be in the callables\u001b[39;00m\n\u001b[1;32m    801\u001b[0m \u001b[38;5;66;03m# dict.  ensure they are removed.\u001b[39;00m\n\u001b[1;32m    802\u001b[0m \u001b[38;5;28mself\u001b[39m\u001b[38;5;241m.\u001b[39mexpired_attributes\u001b[38;5;241m.\u001b[39mclear()\n",
      "File \u001b[0;32m~/.local/lib/python3.11/site-packages/sqlalchemy/orm/loading.py:1586\u001b[0m, in \u001b[0;36mload_scalar_attributes\u001b[0;34m(mapper, state, attribute_names, passive)\u001b[0m\n\u001b[1;32m   1584\u001b[0m session \u001b[38;5;241m=\u001b[39m state\u001b[38;5;241m.\u001b[39msession\n\u001b[1;32m   1585\u001b[0m \u001b[38;5;28;01mif\u001b[39;00m \u001b[38;5;129;01mnot\u001b[39;00m session:\n\u001b[0;32m-> 1586\u001b[0m     \u001b[38;5;28;01mraise\u001b[39;00m orm_exc\u001b[38;5;241m.\u001b[39mDetachedInstanceError(\n\u001b[1;32m   1587\u001b[0m         \u001b[38;5;124m\"\u001b[39m\u001b[38;5;124mInstance \u001b[39m\u001b[38;5;132;01m%s\u001b[39;00m\u001b[38;5;124m is not bound to a Session; \u001b[39m\u001b[38;5;124m\"\u001b[39m\n\u001b[1;32m   1588\u001b[0m         \u001b[38;5;124m\"\u001b[39m\u001b[38;5;124mattribute refresh operation cannot proceed\u001b[39m\u001b[38;5;124m\"\u001b[39m \u001b[38;5;241m%\u001b[39m (state_str(state))\n\u001b[1;32m   1589\u001b[0m     )\n\u001b[1;32m   1591\u001b[0m no_autoflush \u001b[38;5;241m=\u001b[39m \u001b[38;5;28mbool\u001b[39m(passive \u001b[38;5;241m&\u001b[39m attributes\u001b[38;5;241m.\u001b[39mNO_AUTOFLUSH)\n\u001b[1;32m   1593\u001b[0m \u001b[38;5;66;03m# in the case of inheritance, particularly concrete and abstract\u001b[39;00m\n\u001b[1;32m   1594\u001b[0m \u001b[38;5;66;03m# concrete inheritance, the class manager might have some keys\u001b[39;00m\n\u001b[1;32m   1595\u001b[0m \u001b[38;5;66;03m# of attributes on the superclass that we didn't actually map.\u001b[39;00m\n\u001b[1;32m   1596\u001b[0m \u001b[38;5;66;03m# These could be mapped as \"concrete, don't load\" or could be completely\u001b[39;00m\n\u001b[1;32m   1597\u001b[0m \u001b[38;5;66;03m# excluded from the mapping and we know nothing about them.  Filter them\u001b[39;00m\n\u001b[1;32m   1598\u001b[0m \u001b[38;5;66;03m# here to prevent them from coming through.\u001b[39;00m\n",
      "\u001b[0;31mDetachedInstanceError\u001b[0m: Instance <Player at 0x7fc961549290> is not bound to a Session; attribute refresh operation cannot proceed (Background on this error at: https://sqlalche.me/e/20/bhk3)"
     ]
    }
   ],
   "source": [
    "client.resume_stats(player, games)"
   ]
  }
 ],
 "metadata": {
  "kernelspec": {
   "display_name": "Python 3",
   "language": "python",
   "name": "python3"
  },
  "language_info": {
   "codemirror_mode": {
    "name": "ipython",
    "version": 3
   },
   "file_extension": ".py",
   "mimetype": "text/x-python",
   "name": "python",
   "nbconvert_exporter": "python",
   "pygments_lexer": "ipython3",
   "version": "3.11.9"
  }
 },
 "nbformat": 4,
 "nbformat_minor": 2
}
