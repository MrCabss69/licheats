{
 "cells": [
  {
   "cell_type": "code",
   "execution_count": 1,
   "metadata": {},
   "outputs": [],
   "source": [
    "from licheats import Client"
   ]
  },
  {
   "cell_type": "code",
   "execution_count": 2,
   "metadata": {},
   "outputs": [
    {
     "name": "stdout",
     "output_type": "stream",
     "text": [
      "<licheats.shared.models.Player object at 0x7f667ff49790> [<licheats.shared.models.Game object at 0x7f6691736890>, <licheats.shared.models.Game object at 0x7f667ffc0b50>, <licheats.shared.models.Game object at 0x7f667ffc31d0>, <licheats.shared.models.Game object at 0x7f667ffc3490>, <licheats.shared.models.Game object at 0x7f667ffc3050>, <licheats.shared.models.Game object at 0x7f667ffc3550>, <licheats.shared.models.Game object at 0x7f667ffaad90>, <licheats.shared.models.Game object at 0x7f667ffabe90>, <licheats.shared.models.Game object at 0x7f667ffa9710>] ['Error processing game hvIpP0wT: Missing required fields: clock']\n"
     ]
    }
   ],
   "source": [
    "client = Client()\n",
    "client.get_user_resume('Fieber69')"
   ]
  },
  {
   "cell_type": "code",
   "execution_count": null,
   "metadata": {},
   "outputs": [],
   "source": []
  }
 ],
 "metadata": {
  "kernelspec": {
   "display_name": "Python 3",
   "language": "python",
   "name": "python3"
  },
  "language_info": {
   "codemirror_mode": {
    "name": "ipython",
    "version": 3
   },
   "file_extension": ".py",
   "mimetype": "text/x-python",
   "name": "python",
   "nbconvert_exporter": "python",
   "pygments_lexer": "ipython3",
   "version": "3.11.9"
  }
 },
 "nbformat": 4,
 "nbformat_minor": 2
}
