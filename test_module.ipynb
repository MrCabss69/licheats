{
 "cells": [
  {
   "cell_type": "code",
   "execution_count": 1,
   "metadata": {},
   "outputs": [],
   "source": [
    "from licheats import Client"
   ]
  },
  {
   "cell_type": "code",
   "execution_count": 2,
   "metadata": {},
   "outputs": [],
   "source": [
    "client = Client()\n",
    "player = client.get_player('Fieber69')"
   ]
  },
  {
   "cell_type": "code",
   "execution_count": 3,
   "metadata": {},
   "outputs": [
    {
     "data": {
      "text/plain": [
       "<licheats.shared.models.Player at 0x7fb54fd696d0>"
      ]
     },
     "execution_count": 3,
     "metadata": {},
     "output_type": "execute_result"
    }
   ],
   "source": [
    "player"
   ]
  },
  {
   "cell_type": "code",
   "execution_count": 4,
   "metadata": {},
   "outputs": [
    {
     "data": {
      "text/plain": [
       "[<licheats.shared.models.Game at 0x7fb54fecf550>,\n",
       " <licheats.shared.models.Game at 0x7fb54fd7d8d0>,\n",
       " <licheats.shared.models.Game at 0x7fb54fda5290>,\n",
       " <licheats.shared.models.Game at 0x7fb54fda73d0>,\n",
       " <licheats.shared.models.Game at 0x7fb54fda5f50>,\n",
       " <licheats.shared.models.Game at 0x7fb54fda6a50>,\n",
       " <licheats.shared.models.Game at 0x7fb54fda4350>,\n",
       " <licheats.shared.models.Game at 0x7fb54fda7410>,\n",
       " <licheats.shared.models.Game at 0x7fb54fda4450>]"
      ]
     },
     "execution_count": 4,
     "metadata": {},
     "output_type": "execute_result"
    }
   ],
   "source": [
    "games = client.get_games('Fieber69')\n",
    "games"
   ]
  }
 ],
 "metadata": {
  "kernelspec": {
   "display_name": "Python 3",
   "language": "python",
   "name": "python3"
  },
  "language_info": {
   "codemirror_mode": {
    "name": "ipython",
    "version": 3
   },
   "file_extension": ".py",
   "mimetype": "text/x-python",
   "name": "python",
   "nbconvert_exporter": "python",
   "pygments_lexer": "ipython3",
   "version": "3.11.9"
  }
 },
 "nbformat": 4,
 "nbformat_minor": 2
}
